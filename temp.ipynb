{
 "cells": [
  {
   "cell_type": "code",
   "execution_count": 19,
   "metadata": {},
   "outputs": [],
   "source": [
    "#salt = int(input())\n",
    "salt = 11"
   ]
  },
  {
   "cell_type": "code",
   "execution_count": 20,
   "metadata": {},
   "outputs": [
    {
     "name": "stdout",
     "output_type": "stream",
     "text": [
      "3\n"
     ]
    }
   ],
   "source": [
    "max_5 = salt // 5\n",
    "final_5 = int()\n",
    "final_3 = int()\n",
    "for i in range(max_5, -1, -1):\n",
    "    remain = salt - 5 * i\n",
    "    if remain == 0:\n",
    "        final_5 = max_5\n",
    "        final_3 = 0\n",
    "        break\n",
    "    else:\n",
    "        if remain % 3 == 0:\n",
    "            final_5 = i\n",
    "            final_3 = remain // 3\n",
    "            break\n",
    "\n",
    "if (final_5 == 0) and (final_3 == 0):\n",
    "    print(-1)\n",
    "else:\n",
    "    print(final_5+final_3)"
   ]
  },
  {
   "cell_type": "code",
   "execution_count": 56,
   "metadata": {},
   "outputs": [],
   "source": [
    "#info = list(map(int, input().split()))\n",
    "info = [100, 99, 1000000000]"
   ]
  },
  {
   "cell_type": "code",
   "execution_count": 57,
   "metadata": {},
   "outputs": [
    {
     "name": "stdout",
     "output_type": "stream",
     "text": [
      "999999901\n"
     ]
    }
   ],
   "source": [
    "now = 0\n",
    "days = 0\n",
    "\n",
    "threshold = info[2] - info[0]\n",
    "step = info[0] - info[1]\n",
    "days += threshold // step\n",
    "now += days * step\n",
    "\n",
    "while True:\n",
    "    days += 1\n",
    "    # daytime\n",
    "    now += info[0]\n",
    "    if now >= info[2]:\n",
    "        break\n",
    "    # night\n",
    "    now -= info[1]\n",
    "    if now < 0:\n",
    "        now = 0\n",
    "\n",
    "print(days)"
   ]
  },
  {
   "cell_type": "code",
   "execution_count": null,
   "metadata": {},
   "outputs": [],
   "source": []
  }
 ],
 "metadata": {
  "kernelspec": {
   "display_name": "Python 3.9.13 64-bit",
   "language": "python",
   "name": "python3"
  },
  "language_info": {
   "codemirror_mode": {
    "name": "ipython",
    "version": 3
   },
   "file_extension": ".py",
   "mimetype": "text/x-python",
   "name": "python",
   "nbconvert_exporter": "python",
   "pygments_lexer": "ipython3",
   "version": "3.9.13"
  },
  "orig_nbformat": 4,
  "vscode": {
   "interpreter": {
    "hash": "3d3579b64ed644892bc49d0da2d1890659408e00eebf25200bc250e1696a02dd"
   }
  }
 },
 "nbformat": 4,
 "nbformat_minor": 2
}
