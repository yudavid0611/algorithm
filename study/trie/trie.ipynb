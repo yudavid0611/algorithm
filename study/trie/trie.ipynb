{
 "cells": [
  {
   "attachments": {},
   "cell_type": "markdown",
   "metadata": {},
   "source": [
    "# trie 자료구조\n",
    "\n",
    "> 참고\n",
    "> - https://ko.wikipedia.org/wiki/%ED%8A%B8%EB%9D%BC%EC%9D%B4_(%EC%BB%B4%ED%93%A8%ED%8C%85)\n",
    "> - 책 <<파이썬 알고리즘 인터뷰>> '16장 트라이'"
   ]
  },
  {
   "attachments": {},
   "cell_type": "markdown",
   "metadata": {},
   "source": [
    "## 정리\n",
    "- 검색 트리의 일종\n",
    "- 문자열 데이터를 효율적으로 저장하고 추출하는 데 용이하게 쓰인다.\n",
    "- 일반적으로 키가 문자열이다.\n",
    "- NLP 분야에서 문자열 탐색을 위한 자료구조로 널리 쓰인다.\n",
    "- 자동완성, 스펠링체크 등에 활용된다."
   ]
  },
  {
   "attachments": {},
   "cell_type": "markdown",
   "metadata": {},
   "source": [
    "## trie 클래스 구현하기\n",
    "- [LeetCode 208번](https://leetcode.com/problems/implement-trie-prefix-tree/)"
   ]
  },
  {
   "cell_type": "code",
   "execution_count": null,
   "metadata": {},
   "outputs": [],
   "source": [
    "class Trie:\n",
    "    root = {}\n",
    "\n",
    "    def __init__(self, is_root=True):\n",
    "        # 단어 완성 여부를 나타냄\n",
    "        self.word = False\n",
    "        # 다음에 오는 단어 저장\n",
    "        self.children = {}\n",
    "        \n",
    "        # 테스트 케이스마다 root를 초기화하기 위한 코드\n",
    "        if is_root:\n",
    "            Trie.root = {}\n",
    "        \n",
    "\n",
    "    def insert(self, word: str) -> None:\n",
    "        node = Trie.root\n",
    "\n",
    "        if word[0] not in node:\n",
    "            node.update({word[0]: Trie(is_root=False)})\n",
    "        \n",
    "        node = node[word[0]]\n",
    "        \n",
    "        for char in word[1:]:\n",
    "            # char가 저장되어 있지 않은 경우 children에 추가\n",
    "            if char not in node.children:\n",
    "                node.children.update({char: Trie(is_root=False)})\n",
    "            node = node.children[char]\n",
    "        \n",
    "        # 단어 완성\n",
    "        node.word = True\n",
    "        \n",
    "\n",
    "    def search(self, word: str) -> bool:\n",
    "        node = Trie.root\n",
    "\n",
    "        if word[0] not in node:\n",
    "            return False\n",
    "\n",
    "        node = node[word[0]]\n",
    "\n",
    "        for char in word[1:]:\n",
    "            if char not in node.children:\n",
    "                return False\n",
    "            node = node.children[char]\n",
    "        \n",
    "        # 단어가 존재하는 경우\n",
    "        if node.word:\n",
    "            return True\n",
    "        # 단어가 존재하지 않을 경우\n",
    "        else:\n",
    "            return False\n",
    "            \n",
    "        \n",
    "    def startsWith(self, prefix: str) -> bool:\n",
    "        node = Trie.root\n",
    "\n",
    "        print(node)\n",
    "        if prefix[0] not in node:\n",
    "            return False\n",
    "\n",
    "        node = node[prefix[0]]\n",
    "\n",
    "        for char in prefix[1:]:\n",
    "            if char not in node.children:\n",
    "                return False\n",
    "            node = node.children[char]\n",
    "        return True\n",
    "\n",
    "\n",
    "# Your Trie object will be instantiated and called as such:\n",
    "# obj = Trie()\n",
    "# obj.insert(word)\n",
    "# param_2 = obj.search(word)\n",
    "# param_3 = obj.startsWith(prefix)"
   ]
  }
 ],
 "metadata": {
  "language_info": {
   "name": "python"
  },
  "orig_nbformat": 4
 },
 "nbformat": 4,
 "nbformat_minor": 2
}
