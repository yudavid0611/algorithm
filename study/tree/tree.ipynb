{
 "cells": [
  {
   "cell_type": "markdown",
   "metadata": {},
   "source": [
    "# Tree"
   ]
  },
  {
   "cell_type": "markdown",
   "metadata": {},
   "source": [
    "![tree](tree.jpg)"
   ]
  },
  {
   "cell_type": "markdown",
   "metadata": {},
   "source": [
    "## 설명\n",
    "- 원소들 간 1:n 관계를 가지는 자료구조\n",
    "- 특징\n",
    "    - 비선형 구조\n",
    "    - 계층 구조\n",
    "    - 순환구조가 아님\n",
    "    - 그래프의 한 종류\n",
    "\n",
    "- 순회법\n",
    "    1. 전위순회(preorder traversal): 부모-왼쪽자식-오른쪽자식 순으로 방문\n",
    "    2. 중위순회(inorder traversal): 왼쪽자식-부모-오른쪽자식 순으로 방문\n",
    "    3. 후위순회(postorder traversal): 왼쪽자식-오른쪽자식-부모 순으로 방문\n",
    "\n",
    "- 종류\n",
    "    - 이진트리(binary tree): 모든 노드의 차수가 2 이하인 트리\n",
    "    - 포화이진트리(perfect binary tree): 모든 레벨에 노드가 가득 차 있는 이진 트리\n",
    "        - 높이가 h일 때 노드의 개수: 2^(h+1) - 1\n",
    "    - 완전이진트리(complete binary tree): 중간에 빈 노드가 없는 트리. 포화이진트리와의 차이점은 마지막 노드가 위치한 레벨에 노드가 가득 차 있지 않을 수 있다.\n",
    "    - 이진탐색트리(binary search tree): 노드의 왼쪽 서브트리에는 그 노드의 값보다 작은 값들이, 오른쪽에는 큰 값들이 위치한 트리. 균형이 잡힌 트리일 경우 탐색 시간이 O(logn)이다."
   ]
  }
 ],
 "metadata": {
  "kernelspec": {
   "display_name": "Python 3.8.8 ('base')",
   "language": "python",
   "name": "python3"
  },
  "language_info": {
   "name": "python",
   "version": "3.8.8"
  },
  "orig_nbformat": 4,
  "vscode": {
   "interpreter": {
    "hash": "dbe827b3e7dff20e8c8d0b72069e5a3828c834d48d0c4f28538887a9a7d00e33"
   }
  }
 },
 "nbformat": 4,
 "nbformat_minor": 2
}
