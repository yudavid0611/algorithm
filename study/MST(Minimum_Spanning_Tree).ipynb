{
 "cells": [
  {
   "cell_type": "markdown",
   "metadata": {},
   "source": [
    "# MST(Minimum_Spanning_Tree): 최소신장트리"
   ]
  },
  {
   "cell_type": "markdown",
   "metadata": {},
   "source": [
    "## 설명\n",
    "- 신장 트리: v개의 정점으로 이루어진 무방향 그래프에서 v개의 정점과 n-1개의 간선으로 이루어진 트리\n",
    "- 최소 신장 트리: 신장 트리 중 간선들의 가중치 합이 최소인 신장 트리\n",
    "- 트리이기 때문에 당연히 싸이클이 발생하지 않는다. 싸이클이란, 출발 정점으로 다시 돌아오는 연결 관계를 의미한다."
   ]
  },
  {
   "cell_type": "markdown",
   "metadata": {},
   "source": [
    "## 관련 문제\n",
    "- [SWEA 5249](https://swexpertacademy.com/main/learn/course/subjectDetail.do?courseId=AVuPDYSqAAbw5UW6&subjectId=AWUYHO7a2JoDFAVT)\n",
    "- 위 링크의 6차시 문제 '최소 신장 트리'"
   ]
  },
  {
   "cell_type": "markdown",
   "metadata": {},
   "source": [
    "### Prim 알고리즘\n",
    "1. 임의 정점을 선택\n",
    "2. 선택한 정점과 인접하는 정점들 중 가중치가 가장 작은 간선을 가진 정점 선택\n",
    "3. 모든 정점이 선택될 때까지 반복"
   ]
  },
  {
   "cell_type": "code",
   "execution_count": null,
   "metadata": {},
   "outputs": [],
   "source": [
    "import heapq\n",
    "from collections import defaultdict\n",
    "                   \n",
    "\n",
    "def prim():\n",
    "    mst = [0] * (V+1)                               # mst 포함 여부\n",
    "    q = []                                          # queue(우선순위)\n",
    "    min_weight = 0                                  # 가중치의 합\n",
    "                                            \n",
    "    v = 0                                           # 임의 정점 선택\n",
    "    mst[v] = 1                                      # mst 포함 여부 체크\n",
    "\n",
    "    while 0 in mst:                                 # mst에 모든 정점이 들어가면 break                            \n",
    "        for j in adj_list[v]:                       # 선택된 정점과 연결되어 있는 정점들 q에 넣기\n",
    "            heapq.heappush(q, [j[0], j[1], v])      # 가중치 / 자식정점 / 부모정점\n",
    "        \n",
    "        while q:                                    \n",
    "            min_node = heapq.heappop(q)             # 최소 weight의 정점 받기\n",
    "            if mst[min_node[1]] or (rep_list[min_node[2]] == rep_list[min_node[1]]):    # mst 포함 여부 및 싸이클 여부 체크\n",
    "                continue\n",
    "            else:\n",
    "                min_weight += min_node[0]           # 가중치 더하기\n",
    "                rep_list[min_node[1]] = rep_list[min_node[2]]   # 대표자 변경하기\n",
    "                v = min_node[1]                     \n",
    "                mst[v] = 1                          # 새로운 정점 mst에 추가\n",
    "                break\n",
    "                \n",
    "    return min_weight\n",
    "\n",
    "\n",
    "tests = int(input())\n",
    "\n",
    "for tc in range(1, tests+1):\n",
    "    V, E = map(int, input().split())\n",
    "    adj_list = defaultdict(list)                    # 인접 리스트\n",
    "    rep_list = [i for i in range(0, V+1)]           # 각 정점들의 대표자를 나타낼 리스트\n",
    "    for _ in range(E):\n",
    "        p, c, w = map(int, input().split())\n",
    "        adj_list[c].append([w, p])\n",
    "        adj_list[p].append([w, c])\n",
    "\n",
    "    result = prim()\n",
    "    print(f'#{tc} {result}')"
   ]
  },
  {
   "cell_type": "markdown",
   "metadata": {},
   "source": [
    "## Kruskal 알고리즘\n",
    "1. 간선의 가중치가 가장 작은 두 노드를 선택한다.\n",
    "2. 두 노드의 대표자가 일치할 경우, 싸이클이 발생하므로 다음으로 가중치가 작은 두 노드를 선택한다.\n",
    "3. 두 노드의 대표자가 일치하지 않을 경우, 해당 가중치를 최종 결과값에 더해준다.\n",
    "4. 두 노드의 대표자를 동일하게 만들어준다(추후 싸이클 여부 파악을 위해 필요한 작업)\n",
    "5. 모든 노드가 선택될 때까지 위 작업을 반복한다.\n",
    "6. 최종 결과값을 리턴한다."
   ]
  },
  {
   "cell_type": "code",
   "execution_count": null,
   "metadata": {},
   "outputs": [],
   "source": [
    "# Kruskal 알고리즘 풀이\n",
    "\n",
    "def find_set(n):                                        # 대표자를 찾는 함수\n",
    "    if rep_list[n] == n:\n",
    "        return n\n",
    "    else:\n",
    "        return find_set(rep_list[n])\n",
    "\n",
    "tests = int(input())\n",
    "\n",
    "for tc in range(1, tests+1):\n",
    "    V, E = map(int, input().split())\n",
    "    rep_list = [i for i in range(V+1)]                  # 각 정점들의 대표자를 나타낼 리스트\n",
    "    edges = []\n",
    "    for _ in range(E):\n",
    "        p, c, w = map(int, input().split())\n",
    "        edges.append([w, p, c])\n",
    "    \n",
    "    edges.sort()                                        # 가중치 기준 오름차순 정렬\n",
    "    result = 0\n",
    "    count = 0                                           # mst 포함 정점 개수\n",
    "    for e in edges:\n",
    "        if find_set(e[1]) != find_set(e[2]):            # 싸이클이 아닐 경우      \n",
    "            result += e[0]                              # 가중치 더해주기\n",
    "            rep_list[find_set(e[2])] = find_set(e[1])   # 대표자 변경\n",
    "            count += 1                                  # mst 포함 정점 개수 +1\n",
    "            if count == V+1:                            # 모든 정점이 mst에 포함되었을 경우 break\n",
    "                break\n",
    "    print(f'#{tc} {result}')"
   ]
  }
 ],
 "metadata": {
  "kernelspec": {
   "display_name": "Python 3.8.8 ('base')",
   "language": "python",
   "name": "python3"
  },
  "language_info": {
   "name": "python",
   "version": "3.8.8"
  },
  "orig_nbformat": 4,
  "vscode": {
   "interpreter": {
    "hash": "dbe827b3e7dff20e8c8d0b72069e5a3828c834d48d0c4f28538887a9a7d00e33"
   }
  }
 },
 "nbformat": 4,
 "nbformat_minor": 2
}
