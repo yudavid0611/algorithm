{
 "cells": [
  {
   "cell_type": "markdown",
   "metadata": {},
   "source": [
    "# Selection"
   ]
  },
  {
   "cell_type": "markdown",
   "metadata": {},
   "source": [
    "## Selection sorting(선택 정렬)\n",
    "1. 리스트에서 최소값을 찾는다.\n",
    "2. 리스트 맨 앞에 위치한 값과 교환한다.\n",
    "3. 맨 처음 위치를 제외한 나머지 리스트를 대상으로 위의 과정을 반복한다."
   ]
  },
  {
   "cell_type": "markdown",
   "metadata": {},
   "source": [
    "### basic foramt"
   ]
  },
  {
   "cell_type": "code",
   "execution_count": 1,
   "metadata": {},
   "outputs": [],
   "source": [
    "# 오름차순 선택정렬\n",
    "def selection_sort_ascending(arr):\n",
    "    for i in range(len(arr)-1): # 맨 마지막 원소는 수행할 필요 없음\n",
    "        # 최소값을 가리키는 인덱스를 i로 초기화\n",
    "        min_idx = i\n",
    "        for j in range(i+1, len(arr)): # i의 다음 인덱스부터 시작\n",
    "            if arr[min_idx] > arr[j]:\n",
    "                min_idx = j\n",
    "        # min_idx 인덱스의 원소와 i 인덱스 원소의 값을 교환\n",
    "        arr[i], arr[min_idx] = arr[min_idx], arr[i]\n",
    "    return arr\n",
    "\n",
    "# 내림차순 선택정렬\n",
    "def selection_sort_descending(arr):\n",
    "    for i in range(len(arr)-1): # 맨 마지막 원소는 수행할 필요 없음\n",
    "        # 최대값을 가리키는 인덱스를 i로 초기화\n",
    "        max_idx = i\n",
    "        for j in range(i+1, len(arr)): # i의 다음 인덱스부터 시작\n",
    "            if arr[max_idx] < arr[j]:\n",
    "                max_idx = j\n",
    "        # max_idx 인덱스의 원소와 i 인덱스 원소의 값을 교환\n",
    "        arr[i], arr[max_idx] = arr[max_idx], arr[i]\n",
    "    return arr"
   ]
  },
  {
   "cell_type": "code",
   "execution_count": 2,
   "metadata": {},
   "outputs": [
    {
     "name": "stdout",
     "output_type": "stream",
     "text": [
      "[1, 2, 3, 5, 5, 6, 6, 7]\n",
      "[7, 6, 6, 5, 5, 3, 2, 1]\n"
     ]
    }
   ],
   "source": [
    "print(selection_sort_ascending([3,5,6,7,1,2,5,6]))\n",
    "print(selection_sort_descending([3,5,6,7,1,2,5,6]))"
   ]
  },
  {
   "cell_type": "markdown",
   "metadata": {},
   "source": [
    "## Selection algorithm"
   ]
  },
  {
   "cell_type": "markdown",
   "metadata": {},
   "source": [
    "### basic format"
   ]
  },
  {
   "cell_type": "code",
   "execution_count": 4,
   "metadata": {},
   "outputs": [],
   "source": [
    "## k번째로 가장 작은 수 구하기 ##\n",
    " \n",
    "def selection(arr, k):\n",
    "    for i in range(k): # 맨 마지막 원소는 수행할 필요 없음\n",
    "        # 최소값을 가리키는 인덱스를 i로 초기화\n",
    "        min_idx = i\n",
    "        for j in range(i+1, len(arr)): # i의 다음 인덱스부터 시작\n",
    "            if arr[min_idx] > arr[j]:\n",
    "                min_idx = j\n",
    "        # min_idx 인덱스의 원소와 i 인덱스 원소의 값을 교환\n",
    "        arr[i], arr[min_idx] = arr[min_idx], arr[i]\n",
    "    return arr[k-1]"
   ]
  },
  {
   "cell_type": "code",
   "execution_count": 6,
   "metadata": {},
   "outputs": [
    {
     "name": "stdout",
     "output_type": "stream",
     "text": [
      "7\n",
      "1\n",
      "2\n"
     ]
    }
   ],
   "source": [
    "print(selection([3,5,6,7,1,2,5,6], 8))\n",
    "print(selection([3,5,6,7,1,2,5,6], 1))\n",
    "print(selection([3,5,6,7,1,2,5,6], 2))"
   ]
  },
  {
   "cell_type": "code",
   "execution_count": null,
   "metadata": {},
   "outputs": [],
   "source": []
  }
 ],
 "metadata": {
  "kernelspec": {
   "display_name": "Python 3.9.13 64-bit",
   "language": "python",
   "name": "python3"
  },
  "language_info": {
   "codemirror_mode": {
    "name": "ipython",
    "version": 3
   },
   "file_extension": ".py",
   "mimetype": "text/x-python",
   "name": "python",
   "nbconvert_exporter": "python",
   "pygments_lexer": "ipython3",
   "version": "3.9.13"
  },
  "orig_nbformat": 4,
  "vscode": {
   "interpreter": {
    "hash": "3d3579b64ed644892bc49d0da2d1890659408e00eebf25200bc250e1696a02dd"
   }
  }
 },
 "nbformat": 4,
 "nbformat_minor": 2
}
