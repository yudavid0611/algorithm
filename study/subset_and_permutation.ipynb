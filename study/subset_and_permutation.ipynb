{
 "cells": [
  {
   "cell_type": "markdown",
   "metadata": {},
   "source": [
    "# Subset and permutation"
   ]
  },
  {
   "cell_type": "markdown",
   "metadata": {},
   "source": [
    "## 부분집합 구하기\n",
    "    - 집합 내 원소들의 포함여부를 나타낼 리스트 활용 \n",
    "    - 아래 예시: 1부터 5를 원소로 가진 집합의 모든 부분집합 구하기"
   ]
  },
  {
   "cell_type": "code",
   "execution_count": 14,
   "metadata": {},
   "outputs": [],
   "source": [
    "def subset(e, element_num):\n",
    "    if e == element_num:\n",
    "        temp_subset = []\n",
    "        for idx, b in enumerate(bit):\n",
    "            if b == 1:\n",
    "                temp_subset.append(a[idx])\n",
    "        a_subset.append(temp_subset)\n",
    "    else:\n",
    "        bit[e] = 1\n",
    "        subset(e+1, element_num)\n",
    "        bit[e] = 0\n",
    "        subset(e+1, element_num)"
   ]
  },
  {
   "cell_type": "code",
   "execution_count": 15,
   "metadata": {},
   "outputs": [],
   "source": [
    "a = [i for i in range(1, 6)]    # 집합\n",
    "a_subset = []                   # a의 부분집합을 넣을 리스트\n",
    "element_num = len(a)            # 집합의 원소 개수\n",
    "bit = [-1] * 5                   # 각 원소 포함여부를 나타낼 리스트\n",
    "subset(0, 5)"
   ]
  },
  {
   "cell_type": "code",
   "execution_count": 17,
   "metadata": {},
   "outputs": [
    {
     "name": "stdout",
     "output_type": "stream",
     "text": [
      "[[1, 2, 3, 4, 5], [1, 2, 3, 4], [1, 2, 3, 5], [1, 2, 3], [1, 2, 4, 5], [1, 2, 4], [1, 2, 5], [1, 2], [1, 3, 4, 5], [1, 3, 4], [1, 3, 5], [1, 3], [1, 4, 5], [1, 4], [1, 5], [1], [2, 3, 4, 5], [2, 3, 4], [2, 3, 5], [2, 3], [2, 4, 5], [2, 4], [2, 5], [2], [3, 4, 5], [3, 4], [3, 5], [3], [4, 5], [4], [5], []]\n",
      "32\n"
     ]
    }
   ],
   "source": [
    "print(a_subset)\n",
    "print(len(a_subset))    # 2^5 = 32"
   ]
  },
  {
   "cell_type": "code",
   "execution_count": null,
   "metadata": {},
   "outputs": [],
   "source": []
  },
  {
   "cell_type": "markdown",
   "metadata": {},
   "source": [
    "## 순열\n",
    "    - 아래 예시는 1부터 3까지 숫자를 나열하는 모든 경우의 수 구하기"
   ]
  },
  {
   "cell_type": "code",
   "execution_count": 56,
   "metadata": {},
   "outputs": [],
   "source": [
    "import copy\n",
    "def permutation(e, element_num):\n",
    "    if e == element_num:\n",
    "        temp = copy.deepcopy(p)             # deepcopy를 해주어야 원소 순서가 바뀐 리스트를 append 할 수 있다.\n",
    "        p_result.append(temp)\n",
    "    else:\n",
    "        for e2 in range(e, element_num):\n",
    "            p[e], p[e2] = p[e2], p[e]       # 원소 순서 변경\n",
    "            permutation(e+1, element_num)\n",
    "            p[e], p[e2] = p[e2], p[e]       # 원상 복귀"
   ]
  },
  {
   "cell_type": "code",
   "execution_count": 57,
   "metadata": {},
   "outputs": [
    {
     "name": "stdout",
     "output_type": "stream",
     "text": [
      "[[1, 2, 3], [1, 3, 2], [2, 1, 3], [2, 3, 1], [3, 2, 1], [3, 1, 2]]\n"
     ]
    }
   ],
   "source": [
    "p = [i for i in range(1,4)]\n",
    "element_num = len(p)\n",
    "p_result = []\n",
    "permutation(0, element_num)\n",
    "print(p_result)"
   ]
  }
 ],
 "metadata": {
  "kernelspec": {
   "display_name": "Python 3.9.13 64-bit",
   "language": "python",
   "name": "python3"
  },
  "language_info": {
   "codemirror_mode": {
    "name": "ipython",
    "version": 3
   },
   "file_extension": ".py",
   "mimetype": "text/x-python",
   "name": "python",
   "nbconvert_exporter": "python",
   "pygments_lexer": "ipython3",
   "version": "3.9.13"
  },
  "orig_nbformat": 4,
  "vscode": {
   "interpreter": {
    "hash": "3d3579b64ed644892bc49d0da2d1890659408e00eebf25200bc250e1696a02dd"
   }
  }
 },
 "nbformat": 4,
 "nbformat_minor": 2
}
