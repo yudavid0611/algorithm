{
 "cells": [
  {
   "cell_type": "markdown",
   "metadata": {},
   "source": [
    "# Disjoint-sets(서로소 집합/상호배타 집합)"
   ]
  },
  {
   "cell_type": "markdown",
   "metadata": {},
   "source": [
    "- 서로 중복 포함된 원소가 없는 집합(즉 교집합이 없음)\n",
    "- 집합의 대표자(representative)를 통해 집합을 구분\n",
    "- 연산: 집합 만들기(make_set) / 대표자 찾기(find_set) / 대표자 변경(union)"
   ]
  },
  {
   "cell_type": "markdown",
   "metadata": {},
   "source": [
    "## Disjoint-set 클래스 및 연산함수"
   ]
  },
  {
   "cell_type": "code",
   "execution_count": 35,
   "metadata": {},
   "outputs": [],
   "source": [
    "# class 구현\n",
    "# parent가 None인 경우 해당 집합의 대표자\n",
    "\n",
    "class DisjointSet:\n",
    "    def __init__(self, name, parent=None):\n",
    "        self.parent = parent\n",
    "        self.name = name\n",
    "    def __str__(self):\n",
    "        return self.name"
   ]
  },
  {
   "cell_type": "code",
   "execution_count": 31,
   "metadata": {},
   "outputs": [],
   "source": [
    "# make_set\n",
    "def make_set(name, parent:DisjointSet=None) -> DisjointSet:\n",
    "    n = DisjointSet(name, parent)\n",
    "    return n"
   ]
  },
  {
   "cell_type": "code",
   "execution_count": 32,
   "metadata": {},
   "outputs": [],
   "source": [
    "# find_set\n",
    "def find_set(n:DisjointSet) -> DisjointSet:\n",
    "    while n.parent:     # parent가 없는 노드가 대표자 노드\n",
    "        n = n.parent\n",
    "    return n"
   ]
  },
  {
   "cell_type": "code",
   "execution_count": 33,
   "metadata": {},
   "outputs": [],
   "source": [
    "def union(n:DisjointSet, k: DisjointSet) -> None:\n",
    "    n = find_set(n)\n",
    "    k = find_set(k)\n",
    "    k.parent = n"
   ]
  },
  {
   "cell_type": "code",
   "execution_count": 36,
   "metadata": {},
   "outputs": [
    {
     "name": "stdout",
     "output_type": "stream",
     "text": [
      "a b c\n",
      "True\n",
      "a a a a\n"
     ]
    }
   ],
   "source": [
    "# test\n",
    "a = make_set('a')\n",
    "b = make_set('b')\n",
    "c = make_set('c')\n",
    "print(a,b,c)                                        # a b c\n",
    "print(a == find_set(a))                             # True(a의 대표자는 a이기 때문)\n",
    "\n",
    "union(b,c)\n",
    "union(a,b)\n",
    "print(a, find_set(a), find_set(b), find_set(c))     # a a a a"
   ]
  }
 ],
 "metadata": {
  "kernelspec": {
   "display_name": "Python 3.9.13 64-bit",
   "language": "python",
   "name": "python3"
  },
  "language_info": {
   "codemirror_mode": {
    "name": "ipython",
    "version": 3
   },
   "file_extension": ".py",
   "mimetype": "text/x-python",
   "name": "python",
   "nbconvert_exporter": "python",
   "pygments_lexer": "ipython3",
   "version": "3.9.13"
  },
  "orig_nbformat": 4,
  "vscode": {
   "interpreter": {
    "hash": "3d3579b64ed644892bc49d0da2d1890659408e00eebf25200bc250e1696a02dd"
   }
  }
 },
 "nbformat": 4,
 "nbformat_minor": 2
}
