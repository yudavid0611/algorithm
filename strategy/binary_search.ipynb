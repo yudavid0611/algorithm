{
 "cells": [
  {
   "cell_type": "markdown",
   "metadata": {},
   "source": [
    "# Binary search(이진탐색)"
   ]
  },
  {
   "cell_type": "markdown",
   "metadata": {},
   "source": [
    "## 절차\n",
    "1. 배열을 정렬한다.\n",
    "2. 배열의 중앙값과 target을 비교한다.\n",
    "3. 값 비교\n",
    "    - target > 중앙값 -> 중앙값 기준 오른쪽 배열의 중앙값과 다시 비교\n",
    "    - target < 중앙값 -> 중앙값 기준 왼쪽 배열의 중앙값과 다시 비교\n",
    "4. 종료\n",
    "    - 일치하는 값을 찾았을 때\n",
    "    - 더 이상 비교할 수 있는 원소가 없을 때"
   ]
  },
  {
   "cell_type": "markdown",
   "metadata": {},
   "source": [
    "## 기본 포맷"
   ]
  },
  {
   "cell_type": "code",
   "execution_count": 1,
   "metadata": {},
   "outputs": [],
   "source": [
    "# 이진 탐색\n",
    "def binary_search(arr, target):\n",
    "    # target이 arr 최대값보다 크거나 최소값보다 작을 때\n",
    "    if target > arr[-1] or target < arr[0]:\n",
    "        return False\n",
    "    left = 0\n",
    "    right = len(arr)\n",
    "    \n",
    "    # left가 right보다 커지면 찾는 숫자가 배열 안에 없음\n",
    "    while left <= right:\n",
    "        middle = (left+right) // 2\n",
    "        # 찾는 숫자가 배열 안에 있는 경우 True 출력\n",
    "        if arr[middle] == target:\n",
    "            return True\n",
    "        # 찾는 숫자가 middle 인덱스의 값보다 작은 경우\n",
    "        elif arr[middle] > target:\n",
    "            right = middle - 1\n",
    "        # 찾는 숫자가 middle 인덱스의 값보다 큰 경우\n",
    "        else:\n",
    "            left = middle + 1\n",
    "    # 찾는 숫자가 없는 경우 False 출력\n",
    "    return False"
   ]
  },
  {
   "cell_type": "code",
   "execution_count": 2,
   "metadata": {},
   "outputs": [
    {
     "name": "stdout",
     "output_type": "stream",
     "text": [
      "False\n",
      "True\n",
      "False\n",
      "False\n"
     ]
    }
   ],
   "source": [
    "temp_list = [1, 3, 5, 7, 9]\n",
    "print(binary_search(temp_list, -1))\n",
    "print(binary_search(temp_list, 3))\n",
    "print(binary_search(temp_list, 6))\n",
    "print(binary_search(temp_list, 10))"
   ]
  }
 ],
 "metadata": {
  "kernelspec": {
   "display_name": "Python 3.9.13 64-bit",
   "language": "python",
   "name": "python3"
  },
  "language_info": {
   "codemirror_mode": {
    "name": "ipython",
    "version": 3
   },
   "file_extension": ".py",
   "mimetype": "text/x-python",
   "name": "python",
   "nbconvert_exporter": "python",
   "pygments_lexer": "ipython3",
   "version": "3.9.13"
  },
  "orig_nbformat": 4,
  "vscode": {
   "interpreter": {
    "hash": "3d3579b64ed644892bc49d0da2d1890659408e00eebf25200bc250e1696a02dd"
   }
  }
 },
 "nbformat": 4,
 "nbformat_minor": 2
}
