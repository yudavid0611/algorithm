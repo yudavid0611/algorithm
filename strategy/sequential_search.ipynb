{
 "cells": [
  {
   "cell_type": "markdown",
   "metadata": {},
   "source": [
    "# Sequential search(순차 탐색)"
   ]
  },
  {
   "cell_type": "markdown",
   "metadata": {},
   "source": [
    "- 요약: 리스트의 첫 원소부터 시작하여 찾고자 하는 값이 있는지 확인하는 방법\n",
    "- 시간 복잡도: O(n)\n",
    "- 리스트가 정렬이 되어 있을 경우 탐색 시간이 줄어들 수 있다(단, 찾고자 하는 값이 없거나 찾고자 하는 값이 리스트의 가장 마지막에 위치할 경우 정렬하지 않았을 때와 동일한 시간복잡도를 가진다.)"
   ]
  },
  {
   "cell_type": "markdown",
   "metadata": {},
   "source": [
    "## basic format\n",
    "- 오름차순 정렬 가정"
   ]
  },
  {
   "cell_type": "code",
   "execution_count": 4,
   "metadata": {},
   "outputs": [],
   "source": [
    "# arr: 찾고자 하는 값을 탐색할 리스트\n",
    "# target: 찾고자 하는 값\n",
    "def sequential_serch(arr, target):\n",
    "    n = len(arr)\n",
    "    idx = 0\n",
    "    while True:\n",
    "        # 현재 인덱스의 값이 target과 일치할 경우 해당 인덱스 return\n",
    "        if arr[idx] == target:\n",
    "            return idx\n",
    "        # 현재 인덱스의 값이 찾고자 하는 값보다 클 경우, 이후 리스트 내 값들도 모두 target보다 크기 때문에 -1 return\n",
    "        # 다음 인덱스가 리스트의 최대 인덱스를 벗어날 경우에도 -1 return\n",
    "        elif (arr[idx] > target) or (idx+1 >= n-1):\n",
    "            return -1\n",
    "        else:\n",
    "           idx += 1"
   ]
  },
  {
   "cell_type": "code",
   "execution_count": 5,
   "metadata": {},
   "outputs": [
    {
     "name": "stdout",
     "output_type": "stream",
     "text": [
      "1\n",
      "5\n",
      "-1\n"
     ]
    }
   ],
   "source": [
    "test = [1,3,5,7,8,85,4,3,5,667,8,8,5352]\n",
    "print(sequential_serch(test, 3))\n",
    "print(sequential_serch(test, 85))\n",
    "print(sequential_serch(test, 0))"
   ]
  }
 ],
 "metadata": {
  "kernelspec": {
   "display_name": "Python 3.9.13 64-bit",
   "language": "python",
   "name": "python3"
  },
  "language_info": {
   "codemirror_mode": {
    "name": "ipython",
    "version": 3
   },
   "file_extension": ".py",
   "mimetype": "text/x-python",
   "name": "python",
   "nbconvert_exporter": "python",
   "pygments_lexer": "ipython3",
   "version": "3.9.13"
  },
  "orig_nbformat": 4,
  "vscode": {
   "interpreter": {
    "hash": "3d3579b64ed644892bc49d0da2d1890659408e00eebf25200bc250e1696a02dd"
   }
  }
 },
 "nbformat": 4,
 "nbformat_minor": 2
}
