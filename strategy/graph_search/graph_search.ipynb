{
 "cells": [
  {
   "cell_type": "markdown",
   "metadata": {},
   "source": [
    "# Graph search(그래프 탐색)"
   ]
  },
  {
   "cell_type": "markdown",
   "metadata": {},
   "source": [
    "## 그래프란?\n",
    "- 정점(vertex)과 간선(edge)으로 이루어진 자료구조\n",
    "- 간선은 정점들 간의 연결관계를 나타낸다."
   ]
  },
  {
   "cell_type": "markdown",
   "metadata": {},
   "source": [
    "## 그래프 탐색 종류\n",
    "1. DFS(Depth First Search)\n",
    "    - 간선을 따라 그래프의 깊은 곳부터 살펴보는 방식\n",
    "    - 정점들을 스택(stack)에 저장한다.\n",
    "    - BFS에 비해 상대적으로 구현하기 쉽고 메모리도 적게 사용한다.\n",
    "2. BFS(Breadth First Search)\n",
    "    - 출발점에서 가까운 정점들부터 살펴보는 방식\n",
    "    - 정점들을 큐(queue)에 저장한다.\n",
    "    - 탐색하려는 정점이 출발점에서 많이 떨어져있지 않다는 것을 알고 있을 경우 사용하기 좋다."
   ]
  },
  {
   "cell_type": "markdown",
   "metadata": {},
   "source": [
    "## 예시\n",
    "- 참고 문제: swea 1219(길찾기)\n",
    "- 링크: https://swexpertacademy.com/main/code/problem/problemDetail.do?contestProbId=AV14geLqABQCFAYD&categoryId=AV14geLqABQCFAYD&categoryType=CODE&problemTitle=1219&orderBy=FIRST_REG_DATETIME&selectCodeLang=ALL&select-1=&pageSize=10&pageIndex=1&&&&&&&&&"
   ]
  },
  {
   "cell_type": "markdown",
   "metadata": {},
   "source": [
    "### DFS 풀이\n",
    "- ipynb에서는 오류가 발생할 수 있으니 **폴더 내 'dfs.py'에서 실행해볼 것**"
   ]
  },
  {
   "cell_type": "code",
   "execution_count": null,
   "metadata": {},
   "outputs": [],
   "source": [
    "import sys\n",
    "sys.stdin = open('strategy/graph_search/1219_input.txt', 'r')\n",
    "\n",
    "def adjlist(vertex_num, edge_num):                              # 인접행렬 리스트를 반환하는 함수\n",
    "    edges = list(map(int, input().split()))                     # 간선 정보 리스트로 형변환\n",
    "    arr = [[0] * (vertex_num) for _ in range(vertex_num)]       # 정점 개수만큼의 행과 열을 갖는 2차원 리스트 생성\n",
    "    for i in range(edge_num):\n",
    "        n1, n2 = edges[i*2], edges[i*2+1]\n",
    "        arr[n1][n2] = 1\n",
    "    return arr\n",
    "\n",
    "def dfs(v, arr, vertex_num):                                    # dfs 함수\n",
    "    root = []                                                   # 루트를 저장할 리스트 생성\n",
    "    visited = [0] * (vertex_num)                                # 방문한 정점를 표시할 리스트 생성\n",
    "    stack = [0] * (vertex_num)                                  # 이전 경로를 저장해둘 스택 생성\n",
    "    top = -1\n",
    "    \n",
    "    visited[v] = 1\n",
    "    root.append(v)\n",
    "    while True:\n",
    "        for idx, w in enumerate(arr[v]):\n",
    "            if w == 1 and visited[idx] == 0:                    # 길이 존재하고, 방문한 적이 없는 경우\n",
    "                top += 1\n",
    "                stack[top] = v                                  # 스택에 현재 정점 추가\n",
    "                v = idx                                         # idx 정점로 이동\n",
    "                root.append(v)                                  # root에 정점 추가\n",
    "                visited[v] = 1                                  # 방문 기록 남기기\n",
    "                break\n",
    "        else:\n",
    "            if top != -1:                                       # 스택에 정점가 남아 있을 경우\n",
    "                v = stack[top]                                  # 이전 정점로 이동\n",
    "                stack[top] = 0                                  # top 정점 초기화\n",
    "                top -= 1\n",
    "            else:\n",
    "                break\n",
    "    return root\n",
    "\n",
    "\n",
    "for _ in range(1, 11):\n",
    "    vertex_num = 100                                            # 정점 개수는 100\n",
    "    t, edge_num = map(int, input().split())                     # 테스트케이스 넘버와 간선 개수 받기\n",
    "    arr = adjlist(vertex_num, edge_num)                         # adjlist 함수를 통해 인접행렬 반환 받기\n",
    "    root = dfs(0, arr, vertex_num)                              # dfs 함수를 통해 root 반환 받기\n",
    "    if 99 in root:                                              # 99가 root 안에 있을 경우 1 출력 / 없을 경우 0 출력\n",
    "        print(f'#{t} 1')\n",
    "    else:\n",
    "        print(f'#{t} 0')"
   ]
  },
  {
   "cell_type": "markdown",
   "metadata": {},
   "source": [
    "### BFS 풀이\n",
    "- ipynb에서는 오류가 발생할 수 있으니 **폴더 내 'bfs.py'에서 실행해볼 것**"
   ]
  },
  {
   "cell_type": "code",
   "execution_count": null,
   "metadata": {},
   "outputs": [],
   "source": [
    "import sys\n",
    "from collections import deque                                       # queue를 deque 클래스로 구현\n",
    "sys.stdin = open('strategy/graph_search/1219_input.txt', 'r')\n",
    "\n",
    "def adjlist(vertex_num, edge_num):                                  # 인접행렬 리스트를 반환하는 함수\n",
    "    edges = list(map(int, input().split()))                         # 간선 정보 리스트로 형변환\n",
    "    arr = [[0] * (vertex_num) for _ in range(vertex_num)]           # 정점 개수만큼의 행과 열을 갖는 2차원 리스트 생성\n",
    "    for i in range(edge_num):\n",
    "        n1, n2 = edges[i*2], edges[i*2+1]\n",
    "        arr[n1][n2] = 1\n",
    "    return arr\n",
    "\n",
    "def bfs(v, arr, vertex_num):                                        # bfs 함수 정의     \n",
    "    visited = [0] * (vertex_num)                                    # 정점의 방문 여부를 표시할 리스트(방문x->0, 방문o->1)\n",
    "    queue = deque()                                                 # queue\n",
    "    \n",
    "    visited[v] = 1          \n",
    "\n",
    "    while True:\n",
    "        for idx, w in enumerate(arr[v]):                            # v 정점에 연결된 자식 정점들 중 아직 방문하지 않은 정점일 경우 queue에 추가\n",
    "            if w == 1 and visited[idx] == 0:\n",
    "                queue.append(idx)\n",
    "\n",
    "        if len(queue) == 0:                                         # queue에 더 이상 원소가 없으면 break\n",
    "            break\n",
    "        else:                                                       # queue에 원소가 있을 경우\n",
    "            v = queue.popleft()                                     # 맨 앞에 있는 queue의 원소 정점으로 이동\n",
    "            visited[v] = 1\n",
    "\n",
    "    return visited\n",
    "\n",
    "\n",
    "for _ in range(1, 11):\n",
    "    vertex_num = 100                     \n",
    "    t, edge_num = map(int, input().split())     \n",
    "    arr = adjlist(vertex_num, edge_num)                 \n",
    "    visited = bfs(0, arr, vertex_num)                  \n",
    "    if visited[99] == 1:                                            # 99 노드의 값이 1인 경우 1 출력, 0인 경우 0 출력                                   \n",
    "        print(f'#{t} 1')\n",
    "    else:\n",
    "        print(f'#{t} 0')"
   ]
  }
 ],
 "metadata": {
  "kernelspec": {
   "display_name": "Python 3.8.8 ('base')",
   "language": "python",
   "name": "python3"
  },
  "language_info": {
   "codemirror_mode": {
    "name": "ipython",
    "version": 3
   },
   "file_extension": ".py",
   "mimetype": "text/x-python",
   "name": "python",
   "nbconvert_exporter": "python",
   "pygments_lexer": "ipython3",
   "version": "3.8.8"
  },
  "orig_nbformat": 4,
  "vscode": {
   "interpreter": {
    "hash": "dbe827b3e7dff20e8c8d0b72069e5a3828c834d48d0c4f28538887a9a7d00e33"
   }
  }
 },
 "nbformat": 4,
 "nbformat_minor": 2
}
