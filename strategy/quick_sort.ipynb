{
 "cells": [
  {
   "cell_type": "markdown",
   "metadata": {},
   "source": [
    "# Quick sort(퀵 정렬)"
   ]
  },
  {
   "cell_type": "markdown",
   "metadata": {},
   "source": [
    "- 시간복잡도: O(log n)\n",
    "- 절차(카드 더미 정렬을 예시로)\n",
    "    1. 카드 더미에서 한 장을 꺼낸다. 그 한 장을 pivot(기준점)으로 삼는다.\n",
    "    2. pivot보다 큰 카드는 오른쪽 더미에, 작은 카드는 왼쪽 더미에 쌓는다.\n",
    "    3. 오른쪽, 왼쪽 더미에서 1과 2를 반복한다."
   ]
  },
  {
   "cell_type": "markdown",
   "metadata": {},
   "source": [
    "## 예시 코드"
   ]
  },
  {
   "cell_type": "code",
   "execution_count": 3,
   "metadata": {},
   "outputs": [],
   "source": [
    "def quick_sort(arr):\n",
    "    if len(arr) == 1 or len(arr) == 0:              # 배열의 길이가 0 또는 1인 경우 arr 그대로 반환\n",
    "        return arr\n",
    "\n",
    "    pivot = arr.pop(len(arr)//2)                    # pivot을 배열의 중간 인덱스의 원소로 설정. 해당 원소는 기존 배열에서 삭제\n",
    "    left_dummy = []                                 # left 더미 생성\n",
    "    right_dummy = []                                # right 더미 생성\n",
    "\n",
    "    for i in arr:                       \n",
    "        if i >= pivot:                              # 원소가 pivot보다 큰 경우 right 더미에 추가    \n",
    "            right_dummy.append(i)\n",
    "        else:                                       # 원소가 pivot보다 작은 경우 left 더미에 추가   \n",
    "            left_dummy.append(i)\n",
    "            \n",
    "    return quick_sort(left_dummy) + [pivot] + quick_sort(right_dummy)"
   ]
  },
  {
   "cell_type": "code",
   "execution_count": 5,
   "metadata": {},
   "outputs": [
    {
     "data": {
      "text/plain": [
       "[1, 2, 3, 4, 5, 5, 7, 9]"
      ]
     },
     "execution_count": 5,
     "metadata": {},
     "output_type": "execute_result"
    }
   ],
   "source": [
    "quick_sort([7,5,3,4,1,9,5,2])"
   ]
  },
  {
   "cell_type": "code",
   "execution_count": null,
   "metadata": {},
   "outputs": [],
   "source": []
  }
 ],
 "metadata": {
  "kernelspec": {
   "display_name": "Python 3.9.13 64-bit",
   "language": "python",
   "name": "python3"
  },
  "language_info": {
   "codemirror_mode": {
    "name": "ipython",
    "version": 3
   },
   "file_extension": ".py",
   "mimetype": "text/x-python",
   "name": "python",
   "nbconvert_exporter": "python",
   "pygments_lexer": "ipython3",
   "version": "3.9.13"
  },
  "orig_nbformat": 4,
  "vscode": {
   "interpreter": {
    "hash": "3d3579b64ed644892bc49d0da2d1890659408e00eebf25200bc250e1696a02dd"
   }
  }
 },
 "nbformat": 4,
 "nbformat_minor": 2
}
