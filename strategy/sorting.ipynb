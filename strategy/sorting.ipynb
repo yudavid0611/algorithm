{
 "cells": [
  {
   "cell_type": "markdown",
   "metadata": {},
   "source": [
    "# Sorting"
   ]
  },
  {
   "cell_type": "markdown",
   "metadata": {},
   "source": [
    "## Bubble sort\n",
    "- Comparing two sequential elements and changing their positions based on a sorting rule.\n",
    "- Time complexity: O(n^2)"
   ]
  },
  {
   "cell_type": "code",
   "execution_count": 1,
   "metadata": {},
   "outputs": [],
   "source": [
    "# basic foramt(ascending)\n",
    "def bubble_sort(target):\n",
    "    for i in range(len(target)-1, 0, -1):\n",
    "        for j in range(0, i):\n",
    "            if target[j] > target[j+1]:\n",
    "                target[j], target[j+1] = target[j+1], target[j]\n",
    "    return target"
   ]
  },
  {
   "cell_type": "code",
   "execution_count": 2,
   "metadata": {},
   "outputs": [
    {
     "data": {
      "text/plain": [
       "[1, 2, 3, 5, 8, 9]"
      ]
     },
     "execution_count": 2,
     "metadata": {},
     "output_type": "execute_result"
    }
   ],
   "source": [
    "# test\n",
    "temp = [9, 8, 5, 3, 2, 1]\n",
    "bubble_sort(temp)"
   ]
  },
  {
   "cell_type": "markdown",
   "metadata": {},
   "source": [
    "## Counting sort\n",
    "- Using counts of each possible values.\n",
    "- Time complexity: O(n + k)"
   ]
  },
  {
   "cell_type": "code",
   "execution_count": 3,
   "metadata": {},
   "outputs": [],
   "source": [
    "# basic format\n",
    "def counting_sort(target, possible_value_nums):\n",
    "    counts = [0] * possible_value_nums\n",
    "    sorted_list = [0] * len(target)\n",
    "\n",
    "    for i in target:\n",
    "        counts[i] += 1\n",
    "    \n",
    "    for i in range(1, len(counts)):\n",
    "        counts[i] += counts[i-1]\n",
    "    \n",
    "    for i in target:\n",
    "        counts[i] -= 1\n",
    "        sorted_list[counts[i]] = i\n",
    "    \n",
    "    return sorted_list"
   ]
  },
  {
   "cell_type": "code",
   "execution_count": 5,
   "metadata": {},
   "outputs": [
    {
     "data": {
      "text/plain": [
       "[2, 3, 3, 5, 6, 7]"
      ]
     },
     "execution_count": 5,
     "metadata": {},
     "output_type": "execute_result"
    }
   ],
   "source": [
    "# test\n",
    "temp = [5, 3, 2, 7, 6, 3]\n",
    "counting_sort(temp, 10) # assume that the possible value range is 0~9."
   ]
  }
 ],
 "metadata": {
  "kernelspec": {
   "display_name": "Python 3.8.8 ('base')",
   "language": "python",
   "name": "python3"
  },
  "language_info": {
   "codemirror_mode": {
    "name": "ipython",
    "version": 3
   },
   "file_extension": ".py",
   "mimetype": "text/x-python",
   "name": "python",
   "nbconvert_exporter": "python",
   "pygments_lexer": "ipython3",
   "version": "3.8.8"
  },
  "orig_nbformat": 4,
  "vscode": {
   "interpreter": {
    "hash": "dbe827b3e7dff20e8c8d0b72069e5a3828c834d48d0c4f28538887a9a7d00e33"
   }
  }
 },
 "nbformat": 4,
 "nbformat_minor": 2
}
